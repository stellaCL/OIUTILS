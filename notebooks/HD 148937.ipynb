{
 "cells": [
  {
   "cell_type": "code",
   "execution_count": 1,
   "metadata": {},
   "outputs": [
    {
     "name": "stdout",
     "output_type": "stream",
     "text": [
      "Populating the interactive namespace from numpy and matplotlib\n"
     ]
    }
   ],
   "source": [
    "%pylab notebook\n",
    "from oiutils import oifits, oimodels, tellcorr, dpfit\n",
    "import os\n",
    "from astropy.io import fits\n",
    "import ipywidgets as widgets"
   ]
  },
  {
   "cell_type": "code",
   "execution_count": 2,
   "metadata": {},
   "outputs": [],
   "source": [
    "# HD 148937\n",
    "directory = '/Users/amerand/DATA/Science/Sana/SV'\n",
    "files = ['GRAVI.2016-06-18T04:50:57.798_singlescivis_singlesciviscalibrated.fits', \n",
    "         'GRAVI.2016-06-18T05:02:00.835_singlescivis_singlesciviscalibrated.fits',\n",
    "         'GRAVI.2016-06-20T00:09:05.552_singlescivis_singlesciviscalibrated.fits', \n",
    "         'GRAVI.2016-06-20T00:20:08.589_singlescivis_singlesciviscalibrated.fits',\n",
    "         'GRAVI.2016-09-15T23:58:28.961_singlescivis_singlesciviscalibrated.fits', \n",
    "         'GRAVI.2016-09-16T00:04:31.982_singlescivis_singlesciviscalibrated.fits'\n",
    "        ]\n",
    "files = [os.path.join(directory, f) for f in files]"
   ]
  },
  {
   "cell_type": "markdown",
   "metadata": {},
   "source": [
    "# Telluric correction\n",
    "this takes quite a while! \n",
    "\n",
    "No need to run every time, since the results are stored in the FITS files, in the \"TELLURICS\" binary table"
   ]
  },
  {
   "cell_type": "code",
   "execution_count": 3,
   "metadata": {
    "scrolled": false
   },
   "outputs": [
    {
     "data": {
      "application/vnd.jupyter.widget-view+json": {
       "model_id": "54442e777d6547208c363424cd54a2a5",
       "version_major": 2,
       "version_minor": 0
      },
      "text/plain": [
       "Tab(children=(Output(), Output(), Output(), Output(), Output(), Output()))"
      ]
     },
     "metadata": {},
     "output_type": "display_data"
    }
   ],
   "source": [
    "ntabs = len(files)\n",
    "outs = [widgets.Output() for i in range(len(files))]\n",
    "tab = widgets.Tab(children=outs)\n",
    "display(tab)\n",
    "\n",
    "# -- wavelength ranges where we can have potentially astropysical lines\n",
    "# -- will be excluded from the \n",
    "avoid = [(2.056, 2.060), (2.160, 2.173), (2.293, 2.300), (2.322, 2.328), (2.352, 2.357), (2.382, 2.389), (2.415, 2.420)]\n",
    "\n",
    "for i,f in enumerate(files):\n",
    "    with outs[i]:\n",
    "        tab.selected_index = i\n",
    "        tab.children[i].clear_output()\n",
    "        tab.set_title(i, 'file %d'%i)\n",
    "        tellcorr.gravity(f, quiet=False, save=True, avoid=avoid, wlmin=1.9, wlmax=2.5, fig=i+1)"
   ]
  },
  {
   "cell_type": "markdown",
   "metadata": {},
   "source": [
    "# Load Data (first epoch)"
   ]
  },
  {
   "cell_type": "code",
   "execution_count": 6,
   "metadata": {},
   "outputs": [
    {
     "name": "stdout",
     "output_type": "stream",
     "text": [
      "**** /Users/amerand/DATA/Science/Sana/SV/GRAVI.2016-06-18T04:50:57.798_singlescivis_singlesciviscalibrated.fits insname= GRAVITY_SC **********\n",
      "WAVELENGTH: 1742\n",
      "OI_VIS {'K0G1', 'J2A0', 'K0A0', 'G1A0', 'J2G1', 'K0J2'} (1, 1742)\n",
      "OI_VIS2 {'K0G1', 'J2A0', 'K0A0', 'G1A0', 'J2G1', 'K0J2'} (1, 1742)\n",
      "OI_FLUX {'J2', 'A0', 'K0', 'G1'} (1, 1742)\n",
      "TELLURICS (1742,)\n",
      "OI_T3 {'K0G1A0', 'K0J2A0', 'J2G1A0', 'K0J2G1'} (1, 1742)\n",
      "**** /Users/amerand/DATA/Science/Sana/SV/GRAVI.2016-06-18T05:02:00.835_singlescivis_singlesciviscalibrated.fits insname= GRAVITY_SC **********\n",
      "WAVELENGTH: 1742\n",
      "OI_VIS {'K0G1', 'J2A0', 'K0A0', 'G1A0', 'J2G1', 'K0J2'} (1, 1742)\n",
      "OI_VIS2 {'K0G1', 'J2A0', 'K0A0', 'G1A0', 'J2G1', 'K0J2'} (1, 1742)\n",
      "OI_FLUX {'J2', 'A0', 'K0', 'G1'} (1, 1742)\n",
      "TELLURICS (1742,)\n",
      "OI_T3 {'K0G1A0', 'K0J2A0', 'J2G1A0', 'K0J2G1'} (1, 1742)\n",
      "**** /Users/amerand/DATA/Science/Sana/SV/GRAVI.2016-06-20T00:09:05.552_singlescivis_singlesciviscalibrated.fits insname= GRAVITY_SC **********\n",
      "WAVELENGTH: 1742\n",
      "OI_VIS {'K0G1', 'J2A0', 'K0A0', 'G1A0', 'J2G1', 'K0J2'} (1, 1742)\n",
      "OI_VIS2 {'K0G1', 'J2A0', 'K0A0', 'G1A0', 'J2G1', 'K0J2'} (1, 1742)\n",
      "OI_FLUX {'J2', 'A0', 'K0', 'G1'} (1, 1742)\n",
      "TELLURICS (1742,)\n",
      "OI_T3 {'K0G1A0', 'K0J2A0', 'J2G1A0', 'K0J2G1'} (1, 1742)\n",
      "**** /Users/amerand/DATA/Science/Sana/SV/GRAVI.2016-06-20T00:20:08.589_singlescivis_singlesciviscalibrated.fits insname= GRAVITY_SC **********\n",
      "WAVELENGTH: 1742\n",
      "OI_VIS {'K0G1', 'J2A0', 'K0A0', 'G1A0', 'J2G1', 'K0J2'} (1, 1742)\n",
      "OI_VIS2 {'K0G1', 'J2A0', 'K0A0', 'G1A0', 'J2G1', 'K0J2'} (1, 1742)\n",
      "OI_FLUX {'J2', 'A0', 'K0', 'G1'} (1, 1742)\n",
      "TELLURICS (1742,)\n",
      "OI_T3 {'K0G1A0', 'K0J2A0', 'J2G1A0', 'K0J2G1'} (1, 1742)\n"
     ]
    }
   ],
   "source": [
    "data = [oifits.loadOI(f, insname='GRAVITY_SC') for f in files if '2016-06' in f]"
   ]
  },
  {
   "cell_type": "markdown",
   "metadata": {},
   "source": [
    "# Fit Data"
   ]
  },
  {
   "cell_type": "code",
   "execution_count": 5,
   "metadata": {
    "scrolled": false
   },
   "outputs": [
    {
     "data": {
      "application/vnd.jupyter.widget-view+json": {
       "model_id": "f260c5a0b42e4375ba1221df144612b2",
       "version_major": 2,
       "version_minor": 0
      },
      "text/plain": [
       "Tab(children=(Output(), Output(), Output(), Output(), Output()))"
      ]
     },
     "metadata": {},
     "output_type": "display_data"
    }
   ],
   "source": [
    "# -- context dictionnary for the fit:\n",
    "fit = {# -- observable to fit\n",
    "       'obs':['|V|', 'DPHI', 'NFLUX', 'T3PHI'], \n",
    "       # -- where to fit list of tuples (lambda_min, lambda_max)\n",
    "       'wl ranges': [(2.167-0.018, 2.167+0.018)],\n",
    "       # -- minimum error: override the errors in data file\n",
    "       'min error': {'NFLUX':0.05, '|V|':0.04, 'DPHI':2.0, 'T3PHI':4.0},\n",
    "       # -- maximum error: ignore data which are too noisy\n",
    "       #'max error': {'NFLUX':0.5, '|V|':0.2, 'DPHI':5.0, 'T3PHI':10.0, 'V2':0.05},\n",
    "       # -- spectral resolution, in pixels (default is no convolution)\n",
    "       'spec res pix': 1.4\n",
    "}\n",
    "\n",
    "for d in data:\n",
    "    d['fit'] = fit\n",
    "    \n",
    "# -- first guess for the model\n",
    "param = {'1,ud':0.2, '1,x':0.0, '1,y':0.0, '1,f':1.0, '1,line_1_wl0':2.166, '1,line_1_lorentzian':1, '1,line_1_f':.5,\n",
    "         '2,ud':0.2, '2,x':3.3, '2,y':1.5, '2,f':0.5, #'2,line_1_wl0':2.167, '2,line_1_gaussian':1, '2,line_1_f':.5,\n",
    "        }\n",
    "# -- parameters which will not be fitted\n",
    "doNotFit = ['1,ud', '2,ud', # stars \"1\" and \"2\" are unresolved\n",
    "            '1,f', # -- flux referenced to star \"1\"\n",
    "            '1,x', '1,y', # -- star \"1\" is at the center of the field\n",
    "           ]\n",
    "\n",
    "outsF = [widgets.Output() for i in range(len(data)+1)]\n",
    "tabF = widgets.Tab(children=outsF)\n",
    "display(tabF)\n",
    "\n",
    "with outsF[0]:\n",
    "    tabF.selected_index = 0\n",
    "    tabF.children[0].clear_output()\n",
    "    tabF.set_title(0, 'Fitting')\n",
    "    # -- zero vector to fit residuals\n",
    "    z = oimodels.residualsOI(data, param)*0.0 \n",
    "    # -- actual fit to data\n",
    "    fit = dpfit.leastsqFit(oimodels.residualsOI, data, param, z, verbose=2, maxfev=2000, doNotFit=doNotFit, ftol=1e-4,)\n",
    "    # -- best fit parameters\n",
    "    param = fit['best']\n",
    "\n",
    "# -- show data and image of the model \n",
    "for i in range(len(data)):\n",
    "    with outsF[i+1]:\n",
    "        tabF.selected_index = i+1\n",
    "        tabF.children[i+1].clear_output()\n",
    "        tabF.set_title(i+1, 'data %d'%i +(' + model' if i==len(data)-1 else ''))\n",
    "        oimodels.showOI(data[i], param, fig=i+1, showIm=i==len(data)-1, plotWidth=12,  fov=8.0, pix=0.05, imPow=.1)\n",
    "        \n",
    "# plt.figure(1)\n",
    "# plt.savefig('/Users/amerand/Desktop/Plots/SANA/HD148937_data.pdf')\n",
    "# plt.figure(5)\n",
    "# plt.savefig('/Users/amerand/Desktop/Plots/SANA/HD148937_model.pdf')\n"
   ]
  },
  {
   "cell_type": "code",
   "execution_count": null,
   "metadata": {},
   "outputs": [],
   "source": []
  }
 ],
 "metadata": {
  "kernelspec": {
   "display_name": "Python 3",
   "language": "python",
   "name": "python3"
  },
  "language_info": {
   "codemirror_mode": {
    "name": "ipython",
    "version": 3
   },
   "file_extension": ".py",
   "mimetype": "text/x-python",
   "name": "python",
   "nbconvert_exporter": "python",
   "pygments_lexer": "ipython3",
   "version": "3.8.1"
  }
 },
 "nbformat": 4,
 "nbformat_minor": 4
}
